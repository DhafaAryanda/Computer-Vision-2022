{
  "nbformat": 4,
  "nbformat_minor": 0,
  "metadata": {
    "colab": {
      "name": "2008107010032-Prak1.ipynb",
      "provenance": [],
      "collapsed_sections": [
        "vobZKI2pOPgJ",
        "y-ZaytlSQ7aS",
        "_zbRRx4rSuDC",
        "JAFrOIJtTSmJ",
        "hKOhvqk7Tuda",
        "nEUGrzH9UTcp",
        "770BFdylUeOJ"
      ]
    },
    "kernelspec": {
      "name": "python3",
      "display_name": "Python 3"
    },
    "language_info": {
      "name": "python"
    }
  },
  "cells": [
    {
      "cell_type": "markdown",
      "source": [
        "# **Data Structures**"
      ],
      "metadata": {
        "id": "vVkxcs-7Nng6"
      }
    },
    {
      "cell_type": "markdown",
      "source": [
        "## 1. List"
      ],
      "metadata": {
        "id": "vobZKI2pOPgJ"
      }
    },
    {
      "cell_type": "markdown",
      "source": [
        "List digunakan untuk menyimpan banyak item data dalam satu variable. List dibuat dengan menggunakan square bracket. Item di dalam list diurutkan berdasarkan index yang bermula dari index 0. Item yang baru dimasukkan akan diletakkan pada index terakhir. List dapat berubah ukurannya dan membolehkan duplikasi data di dalamnya. Berikut contohnya."
      ],
      "metadata": {
        "id": "v5k50opeO5Uw"
      }
    },
    {
      "cell_type": "code",
      "source": [
        "thislist = [\"apple\", \"banana\", \"cherry\", \"apple\", \"cherry\"]\n",
        "print(thislist)\n",
        "\n",
        "#untuk mengetahui panjang list, gunakan len()\n",
        "print(len(thislist))\n",
        "\n",
        "#list dapat digunakan untuk berbagai tipe data\n",
        "list1 = [\"apple\", \"banana\", \"cherry\"]\n",
        "list2 = [1, 5, 7, 9, 3]\n",
        "list3 = [True, False, False]\n",
        "#coba anda cetak list1, list2, list3 di atas\n",
        "\n",
        "#bahkan item di dalam list bisa bervariasi dari jenis tipe datanya\n",
        "list4 = [\"abc\", 34, True, 40, \"male\"]\n",
        "print(list4)\n",
        "\n",
        "#saat menggunakan list, sebenarnya kita membuat objek dari class list\n",
        "print(type(thislist))\n",
        "#buktinya hasil print di atas mencetak <class 'list'> yang menyatakan bahwa variable thislist merupakan objek class list\n",
        "#oleh karena itu dengan menggunakan kaedah object oriented, kita juga bisa membuat list dengan cara:\n",
        "mylist = list((\"apple\", \"banana\", \"cherry\")) # note the double round-brackets\n",
        "print(mylist)"
      ],
      "metadata": {
        "colab": {
          "base_uri": "https://localhost:8080/"
        },
        "id": "v-CsTiZhOv66",
        "outputId": "0ec121e3-e1de-4bf9-8f9b-6a69b8df88a2"
      },
      "execution_count": 4,
      "outputs": [
        {
          "output_type": "stream",
          "name": "stdout",
          "text": [
            "['apple', 'banana', 'cherry', 'apple', 'cherry']\n",
            "5\n",
            "['abc', 34, True, 40, 'male']\n",
            "<class 'list'>\n",
            "['apple', 'banana', 'cherry']\n"
          ]
        }
      ]
    },
    {
      "cell_type": "code",
      "source": [
        "#item di dalam list diakses dengan menggunakan index yang bermula dari 0\n",
        "thislist = [\"apple\", \"banana\", \"cherry\", \"orange\", \"kiwi\", \"melon\", \"mango\"]\n",
        "print(thislist[1])\n",
        "\n",
        "#uniknya list pada Python bisa berupa negatif yang bermakna mengakses data dari akhir data list\n",
        "print(thislist[-1])\n",
        "print(thislist[-2])\n",
        "\n",
        "#bisa juga memilih rentang index (tanpa perlu pakai loop)\n",
        "print(thislist[2:5])    #dari index 2 hingga sebelum index 5\n",
        "\n",
        "#apabila tidak ada index awal, berarti bermula dari index 0\n",
        "print(thislist[:4])\n",
        "\n",
        "#apabila tidak ada index akhir, berarti akan berakhir hingga index terakhir\n",
        "print(thislist[2:])"
      ],
      "metadata": {
        "colab": {
          "base_uri": "https://localhost:8080/"
        },
        "id": "yB7z8SjWP-tD",
        "outputId": "ecbc3462-4291-4744-b922-9c30f56e09f3"
      },
      "execution_count": 6,
      "outputs": [
        {
          "output_type": "stream",
          "name": "stdout",
          "text": [
            "banana\n",
            "mango\n",
            "melon\n",
            "['cherry', 'orange', 'kiwi']\n",
            "['apple', 'banana', 'cherry', 'orange']\n",
            "['cherry', 'orange', 'kiwi', 'melon', 'mango']\n"
          ]
        }
      ]
    },
    {
      "cell_type": "code",
      "source": [
        "thislist = [\"apple\", \"banana\", \"cherry\", \"orange\", \"kiwi\", \"melon\", \"mango\"]\n",
        "#mengubah isi list, langsung dengan mengakses indexnya\n",
        "thislist[1] = \"blackcurrant\"\n",
        "print(thislist)\n",
        "\n",
        "#mengubah isi list bisa dalam range tertentu\n",
        "thislist[1:3] = [\"blackcurrant\", \"watermelon\"]\n",
        "print(thislist)\n",
        "\n",
        "#apabila kita ingin menambah, bukan mengubah konten, maka gunakan insert()\n",
        "thislist.insert(2, \"banana\")\n",
        "print(thislist)\n",
        "\n",
        "#apabila ingin memasukkan item data pada list yang terakhir, dapat gunakan append()\n",
        "thislist.append(\"pineapple\")\n",
        "print(thislist)\n",
        "\n",
        "#menghapus data dalam list dapat dengan remove()\n",
        "thislist.remove(\"banana\")\n",
        "print(thislist)\n",
        "\n",
        "#atau dapat menghapus pada index tertentu dengan pop()\n",
        "thislist.pop(1)\n",
        "print(thislist)\n",
        "\n",
        "#pop tanpa index akan menghapus item paling terakhir\n",
        "thislist.pop()\n",
        "print(thislist)\n",
        "\n",
        "#menghapus item data pada list juga bisa pakai del\n",
        "del thislist[0]\n",
        "print(thislist)\n",
        "#namun hati-hati menggunakan del, jika hanya \"del thislist\" saja maka objek thislist akan terhapus sama sekali\n",
        "\n",
        "#membersihkan list dapat menggunakan clear()\n",
        "thislist.clear()\n",
        "print(thislist)"
      ],
      "metadata": {
        "colab": {
          "base_uri": "https://localhost:8080/"
        },
        "id": "HhaW9-JJQJup",
        "outputId": "cf67e202-464b-4b8a-82b0-5500be46ce95"
      },
      "execution_count": 7,
      "outputs": [
        {
          "output_type": "stream",
          "name": "stdout",
          "text": [
            "['apple', 'blackcurrant', 'cherry', 'orange', 'kiwi', 'melon', 'mango']\n",
            "['apple', 'blackcurrant', 'watermelon', 'orange', 'kiwi', 'melon', 'mango']\n",
            "['apple', 'blackcurrant', 'banana', 'watermelon', 'orange', 'kiwi', 'melon', 'mango']\n",
            "['apple', 'blackcurrant', 'banana', 'watermelon', 'orange', 'kiwi', 'melon', 'mango', 'pineapple']\n",
            "['apple', 'blackcurrant', 'watermelon', 'orange', 'kiwi', 'melon', 'mango', 'pineapple']\n",
            "['apple', 'watermelon', 'orange', 'kiwi', 'melon', 'mango', 'pineapple']\n",
            "['apple', 'watermelon', 'orange', 'kiwi', 'melon', 'mango']\n",
            "['watermelon', 'orange', 'kiwi', 'melon', 'mango']\n",
            "[]\n"
          ]
        }
      ]
    },
    {
      "cell_type": "markdown",
      "source": [
        "## 2. Tuple"
      ],
      "metadata": {
        "id": "y-ZaytlSQ7aS"
      }
    },
    {
      "cell_type": "markdown",
      "source": [
        "Tuple digunakan untuk menyimpan data dengan bentuk yang mirip dengan list bermakna item data tersusun terurut berdasarkan index. Bedanya tuple bersifat immutable, bermakna apabila tuple sudah dibuat maka tuple tidak bisa diubah, ditambah dan dihapus itemnya. Berikut contohnya."
      ],
      "metadata": {
        "id": "LfSzAZ21RBfN"
      }
    },
    {
      "cell_type": "code",
      "source": [
        "thistuple = (\"apple\", \"banana\", \"cherry\", \"apple\", \"cherry\")\n",
        "print(thistuple)\n",
        "\n",
        "#akses item dalam tuple menggunakan index\n",
        "print(thistuple[1])\n",
        "\n",
        "#penggunaan lain dari index juga sama seperti list, jadi tidak dicontohkan lagi, namun silakan mencoba sendiri"
      ],
      "metadata": {
        "colab": {
          "base_uri": "https://localhost:8080/"
        },
        "id": "LCEh0Au7RO4B",
        "outputId": "96242655-218f-499e-f877-c6d6512f3c95"
      },
      "execution_count": 9,
      "outputs": [
        {
          "output_type": "stream",
          "name": "stdout",
          "text": [
            "('apple', 'banana', 'cherry', 'apple', 'cherry')\n",
            "banana\n"
          ]
        }
      ]
    },
    {
      "cell_type": "markdown",
      "source": [
        "## 3. Dictionary"
      ],
      "metadata": {
        "id": "_zbRRx4rSuDC"
      }
    },
    {
      "cell_type": "markdown",
      "source": [
        "Dictionary digunakan untuk menyimpan data berupa pasangan key dan value. Jadi bayangkan konsepnya mirip seperti kamus, di mana key sebagai kata lalu value sebagai makna kata. Dictionary menggunakan curly bracket. key dan value dipisahkan dengan colon atau titik dua. Berikut contohnya."
      ],
      "metadata": {
        "id": "imOGF4oGS4tD"
      }
    },
    {
      "cell_type": "code",
      "source": [
        "car = {\n",
        "\"brand\": \"Ford\",\n",
        "\"model\": \"Mustang\",\n",
        "\"year\": 1964\n",
        "}\n",
        "print(car)\n",
        "\n",
        "#mengakses value dengan menggunakan key\n",
        "print(car[\"brand\"])\n",
        "\n",
        "#mengakses value dapat juga menggunakan method get()\n",
        "print(car.get(\"model\"))\n",
        "\n",
        "#key juga dapat langsung diakses semua\n",
        "x = car.keys()\n",
        "print(x)\n",
        "\n",
        "#mengubah item data\n",
        "car[\"year\"] = 2018\n",
        "print(car)\n",
        "\n",
        "#selain itu item data juga dapat diubah dengan method update()\n",
        "car.update({\"year\": 2020})\n",
        "print(car)\n",
        "\n",
        "#menambah item data\n",
        "car[\"color\"] = \"red\"\n",
        "print(car)\n",
        "\n",
        "#selain itu item data juga dapat ditambah dengan method update()\n",
        "car.update({\"owner\": \"Mr. Brown\"})\n",
        "print(car)\n",
        "\n",
        "#menghapus item data dengan menggunakan pop()\n",
        "car.pop(\"model\")\n",
        "print(car)\n",
        "\n",
        "#item data paling terakhir dapat dihapus dengan popitem()\n",
        "car.popitem()\n",
        "print(car)\n",
        "\n",
        "#del juga dapat digunakan untuk menghapus\n",
        "del car[\"year\"]\n",
        "print(car)\n",
        "#namun hati-hati menggunakan del sebab dapat menghapus keseluruhan dictionary: del car\n",
        "\n",
        "#membersihkan item data dari dictionary dapat menggunakan clear()\n",
        "car.clear()\n",
        "print(car)"
      ],
      "metadata": {
        "colab": {
          "base_uri": "https://localhost:8080/"
        },
        "id": "XJXJfUlyS7_5",
        "outputId": "5c10e757-6c3c-4c5b-8798-d517bb62bd89"
      },
      "execution_count": 10,
      "outputs": [
        {
          "output_type": "stream",
          "name": "stdout",
          "text": [
            "{'brand': 'Ford', 'model': 'Mustang', 'year': 1964}\n",
            "Ford\n",
            "Mustang\n",
            "dict_keys(['brand', 'model', 'year'])\n",
            "{'brand': 'Ford', 'model': 'Mustang', 'year': 2018}\n",
            "{'brand': 'Ford', 'model': 'Mustang', 'year': 2020}\n",
            "{'brand': 'Ford', 'model': 'Mustang', 'year': 2020, 'color': 'red'}\n",
            "{'brand': 'Ford', 'model': 'Mustang', 'year': 2020, 'color': 'red', 'owner': 'Mr. Brown'}\n",
            "{'brand': 'Ford', 'year': 2020, 'color': 'red', 'owner': 'Mr. Brown'}\n",
            "{'brand': 'Ford', 'year': 2020, 'color': 'red'}\n",
            "{'brand': 'Ford', 'color': 'red'}\n",
            "{}\n"
          ]
        }
      ]
    },
    {
      "cell_type": "markdown",
      "source": [
        "## 4. Set"
      ],
      "metadata": {
        "id": "JAFrOIJtTSmJ"
      }
    },
    {
      "cell_type": "markdown",
      "source": [
        "Set digunakan untuk menyimpan banyak item data di dalam satu variabel. Namun set bersifat unordered dan unindexed (tanpa index). Set ditulis di dalam curly bracket. Sifat unordered bermakna tidak ada urutan. Sehingga contohnya apabila dicetak maka hasil cetakan akan bervariasi. Seperti tuple, set juga immutable. Sehingga sesudah set dibuat maka kita tidak bisa mengubah item data di dalamnya. Selain itu set juga tidak membolehkan data yang duplikat. Sehingga apabila ada data yang duplikat maka tidak akan dianggap."
      ],
      "metadata": {
        "id": "_ky26ly0TVx0"
      }
    },
    {
      "cell_type": "code",
      "source": [
        "thisset = {\"apple\", \"banana\", \"cherry\", \"banana\"}\n",
        "print(thisset)\n",
        "\n",
        "#set tidak dapat diakses menggunakan index ataupun key. Namun bisa pakai pengujian seperti contoh di bawah\n",
        "print(\"banana\" in thisset)\n",
        "\n",
        "#item data pada set tidak bisa diubah namun kita bisa menambah data baru\n",
        "thisset.add(\"orange\")\n",
        "print(thisset)\n",
        "\n",
        "#set juga dapat ditambah dengan update()\n",
        "tropical = {\"pineapple\", \"mango\", \"papaya\"}\n",
        "thisset.update(tropical)\n",
        "print(thisset)\n",
        "\n",
        "#item data dapat dihapus dengan remove()\n",
        "thisset.remove(\"banana\")\n",
        "print(thisset)\n",
        "\n",
        "#item data dapat dihapus juga dengan discard()\n",
        "thisset.discard(\"cherry\")\n",
        "print(thisset)"
      ],
      "metadata": {
        "colab": {
          "base_uri": "https://localhost:8080/"
        },
        "id": "U3hNb00AThW5",
        "outputId": "7457be3c-e0b3-4588-dc3a-60cb59a88638"
      },
      "execution_count": 12,
      "outputs": [
        {
          "output_type": "stream",
          "name": "stdout",
          "text": [
            "{'cherry', 'banana', 'apple'}\n",
            "True\n",
            "{'cherry', 'orange', 'banana', 'apple'}\n",
            "{'cherry', 'orange', 'banana', 'papaya', 'pineapple', 'mango', 'apple'}\n",
            "{'cherry', 'orange', 'papaya', 'pineapple', 'mango', 'apple'}\n",
            "{'orange', 'papaya', 'pineapple', 'mango', 'apple'}\n"
          ]
        }
      ]
    },
    {
      "cell_type": "markdown",
      "source": [
        "# **Conditional Statement (pengujian)**"
      ],
      "metadata": {
        "id": "hKOhvqk7Tuda"
      }
    },
    {
      "cell_type": "markdown",
      "source": [
        "Pengujian akan mengembalikan nilai binary atau boolean berdasarkan kondisi yang diberikan. Kondisi dapat menggunakan operator ==, !=, <, <=, >, >=. Jika hasil dari kondisi adalah true ataupun 1 maka blok sesudah pengujian akan dieksekusi, sebaliknya tidak akan dieksekusi.\n",
        "\n",
        "Pengujian dapat menggunakan beberapa bentuk berikut ini:\n",
        "\n",
        "- if\n",
        "- if-else\n",
        "- if-elif-else"
      ],
      "metadata": {
        "id": "8RShhk6uTxWJ"
      }
    },
    {
      "cell_type": "code",
      "source": [
        "a = 33\n",
        "b = 200\n",
        "if b > a:\n",
        "  print(\"b is greater than a\")"
      ],
      "metadata": {
        "colab": {
          "base_uri": "https://localhost:8080/"
        },
        "id": "bKS2xwDsUGHv",
        "outputId": "c9e2d60a-6b6a-4499-8715-1b22117e8d1c"
      },
      "execution_count": 13,
      "outputs": [
        {
          "output_type": "stream",
          "name": "stdout",
          "text": [
            "b is greater than a\n"
          ]
        }
      ]
    },
    {
      "cell_type": "code",
      "source": [
        "#Python sangat mementingkan indentation. Scope dari suatu blok menggunakan indentation. Kalau pada bahasa pemrograman lain menggunakan *curly bracket*.\n",
        "#Jadi statemen seperti berikut ini akan error.\n",
        "a = 33\n",
        "b = 200\n",
        "if b > a:\n",
        "print(\"b is greater than a\") # you will get an error"
      ],
      "metadata": {
        "colab": {
          "base_uri": "https://localhost:8080/",
          "height": 130
        },
        "id": "eg2OuMKlUJFY",
        "outputId": "1764f80c-742b-4fc0-f8e1-4c4eb06f955b"
      },
      "execution_count": 14,
      "outputs": [
        {
          "output_type": "error",
          "ename": "IndentationError",
          "evalue": "ignored",
          "traceback": [
            "\u001b[0;36m  File \u001b[0;32m\"<ipython-input-14-5b42272017d2>\"\u001b[0;36m, line \u001b[0;32m6\u001b[0m\n\u001b[0;31m    print(\"b is greater than a\") # you will get an error\u001b[0m\n\u001b[0m        ^\u001b[0m\n\u001b[0;31mIndentationError\u001b[0m\u001b[0;31m:\u001b[0m expected an indented block\n"
          ]
        }
      ]
    },
    {
      "cell_type": "code",
      "source": [
        "marks = 45\n",
        "if marks >= 80:\n",
        "    print(\"You got A Grade\")\n",
        "elif marks >=60 and marks <80:\n",
        "    print(\"You got B Grade\")\n",
        "else:\n",
        "    print(\"You got C Grade\")"
      ],
      "metadata": {
        "colab": {
          "base_uri": "https://localhost:8080/"
        },
        "id": "-Uptz5XNUMEp",
        "outputId": "cdf13c44-b489-4cb8-da4a-3d7f235eec04"
      },
      "execution_count": 15,
      "outputs": [
        {
          "output_type": "stream",
          "name": "stdout",
          "text": [
            "You got C Grade\n"
          ]
        }
      ]
    },
    {
      "cell_type": "markdown",
      "source": [
        "# **Control Flow Statement (loop)**"
      ],
      "metadata": {
        "id": "nEUGrzH9UTcp"
      }
    },
    {
      "cell_type": "markdown",
      "source": [
        "Python memiliki 2 perintah loop:\n",
        "\n",
        "- while loop\n",
        "- for loop\n",
        "\n",
        "Loop yang menggunakan while akan dieksekusi selagi kondisi bernilai benar. Loop yang menggunakan for biasanya digunakan untuk mengiterasi suatu sequence (seperti list, tuple, dictionary, set, ataupun string). Jadi sifatnya lebih mirip seperti for-each."
      ],
      "metadata": {
        "id": "IVALjjdXUVFC"
      }
    },
    {
      "cell_type": "code",
      "source": [
        "#Contoh penggunaan while\n",
        "count = 1\n",
        "while count<=5:\n",
        "    table = 2*count\n",
        "    count = count+1\n",
        "    print (table)\n",
        "    \n",
        "#Contoh penggunaan for\n",
        "fruits = [\"apple\", \"banana\", \"cherry\"]\n",
        "for x in fruits:\n",
        "    print(x)\n",
        "    \n",
        "for x in \"banana\":\n",
        "    print(x)\n",
        "\n",
        "#Python juga memiliki keyword break dan continue yang penggunaannya sama seperti pada bahasa pemrograman lainnya\n",
        "for x in fruits:\n",
        "    print(x)\n",
        "    if x == \"banana\":\n",
        "        break\n",
        "    \n",
        "i = 0\n",
        "while i < 6:\n",
        "    i += 1\n",
        "    if i == 3:\n",
        "        continue\n",
        "    print(i)"
      ],
      "metadata": {
        "colab": {
          "base_uri": "https://localhost:8080/"
        },
        "id": "MgA0UecNUa75",
        "outputId": "4618c6f2-b274-4f4f-ffdb-10b5974d8008"
      },
      "execution_count": 16,
      "outputs": [
        {
          "output_type": "stream",
          "name": "stdout",
          "text": [
            "2\n",
            "4\n",
            "6\n",
            "8\n",
            "10\n",
            "apple\n",
            "banana\n",
            "cherry\n",
            "b\n",
            "a\n",
            "n\n",
            "a\n",
            "n\n",
            "a\n",
            "apple\n",
            "banana\n",
            "1\n",
            "2\n",
            "4\n",
            "5\n",
            "6\n"
          ]
        }
      ]
    },
    {
      "cell_type": "markdown",
      "source": [
        "# **Function / fungsi**"
      ],
      "metadata": {
        "id": "770BFdylUeOJ"
      }
    },
    {
      "cell_type": "markdown",
      "source": [
        "Fungsi digunakan untuk membuat kode dalam satu wrapper sehingga fungsi tersebut nanti dapat dipergunakan berulang kali bila diperlukan. Fungsi dibuat dengan menggunakan kata kunci def."
      ],
      "metadata": {
        "id": "tlE2_-fUUk6H"
      }
    },
    {
      "cell_type": "code",
      "source": [
        "#Misal kita ingin membuat fungsi tabel perkalian dari suatu nilai a sebanyak 10 item\n",
        "def tabel_kali (a):\n",
        "    for i in range(10):\n",
        "        tabel_kali = a*(i+1)\n",
        "        print(tabel_kali)\n",
        "\n",
        "tabel_kali(5)"
      ],
      "metadata": {
        "colab": {
          "base_uri": "https://localhost:8080/"
        },
        "id": "eXiLmfJiUmQx",
        "outputId": "ad20f23a-b702-4121-f393-7561e50ac805"
      },
      "execution_count": 17,
      "outputs": [
        {
          "output_type": "stream",
          "name": "stdout",
          "text": [
            "5\n",
            "10\n",
            "15\n",
            "20\n",
            "25\n",
            "30\n",
            "35\n",
            "40\n",
            "45\n",
            "50\n"
          ]
        }
      ]
    }
  ]
}